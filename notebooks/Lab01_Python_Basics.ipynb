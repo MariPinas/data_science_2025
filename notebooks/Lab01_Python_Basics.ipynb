{
  "cells": [
    {
      "cell_type": "markdown",
      "metadata": {
        "id": "1O8ixAdrrI4t"
      },
      "source": [
        "### Introdução à Linguagem Python e suas Estruturas Básicas\n",
        "1. Item da lista\n",
        "2. Item da lista"
      ]
    },
    {
      "cell_type": "code",
      "execution_count": 4,
      "metadata": {
        "colab": {
          "base_uri": "https://localhost:8080/"
        },
        "id": "GNaiDVkHrI4u",
        "outputId": "88f6f58f-91f9-49ed-c390-31d734bf06b7"
      },
      "outputs": [
        {
          "output_type": "stream",
          "name": "stdout",
          "text": [
            "Hello World!\n",
            "Valor da variavel 1 = 2.45\n"
          ]
        }
      ],
      "source": [
        "# 1. Introdução\n",
        "\n",
        "print(\"Hello World!\")\n",
        "\n",
        "var1 = 2.45 # Dinamicamente tipado como float\n",
        "\n",
        "print(f\"Valor da variavel 1 = {var1}\") # string formatada para colocar variaveis dentro dela\n"
      ]
    },
    {
      "cell_type": "code",
      "source": [
        "# 2 Variáveis e tipos de dados\n",
        "\n",
        "inteiro = 10\n",
        "flutuante = 2.2\n",
        "texto = \"Olá Mundo\"\n",
        "booleano = True"
      ],
      "metadata": {
        "id": "FSpPFFvsuTfk"
      },
      "execution_count": 5,
      "outputs": []
    },
    {
      "cell_type": "code",
      "source": [],
      "metadata": {
        "id": "35ZaMYuQuriE"
      },
      "execution_count": null,
      "outputs": []
    }
  ],
  "metadata": {
    "kernelspec": {
      "display_name": "aulas_pos",
      "language": "python",
      "name": "python3"
    },
    "language_info": {
      "codemirror_mode": {
        "name": "ipython",
        "version": 3
      },
      "file_extension": ".py",
      "mimetype": "text/x-python",
      "name": "python",
      "nbconvert_exporter": "python",
      "pygments_lexer": "ipython3",
      "version": "3.11.8"
    },
    "colab": {
      "provenance": []
    }
  },
  "nbformat": 4,
  "nbformat_minor": 0
}