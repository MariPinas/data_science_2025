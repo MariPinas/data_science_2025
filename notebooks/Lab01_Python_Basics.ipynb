{
  "cells": [
    {
      "cell_type": "markdown",
      "metadata": {
        "id": "view-in-github",
        "colab_type": "text"
      },
      "source": [
        "<a href=\"https://colab.research.google.com/github/MariPinas/data_science_2025/blob/main/notebooks/Lab01_Python_Basics.ipynb\" target=\"_parent\"><img src=\"https://colab.research.google.com/assets/colab-badge.svg\" alt=\"Open In Colab\"/></a>"
      ]
    },
    {
      "cell_type": "markdown",
      "metadata": {
        "id": "1O8ixAdrrI4t"
      },
      "source": [
        "### Introdução à Linguagem Python e suas Estruturas Básicas\n",
        "1. Item da lista\n",
        "2. Item da lista"
      ]
    },
    {
      "cell_type": "code",
      "execution_count": null,
      "metadata": {
        "colab": {
          "base_uri": "https://localhost:8080/"
        },
        "id": "GNaiDVkHrI4u",
        "outputId": "88f6f58f-91f9-49ed-c390-31d734bf06b7"
      },
      "outputs": [
        {
          "output_type": "stream",
          "name": "stdout",
          "text": [
            "Hello World!\n",
            "Valor da variavel 1 = 2.45\n"
          ]
        }
      ],
      "source": [
        "# 1. Introdução\n",
        "\n",
        "print(\"Hello World!\")\n",
        "\n",
        "var1 = 2.45 # Dinamicamente tipado como float\n",
        "\n",
        "print(f\"Valor da variavel 1 = {var1}\") # string formatada para colocar variaveis dentro dela\n"
      ]
    },
    {
      "cell_type": "code",
      "source": [
        "# 2 Variáveis e tipos de dados\n",
        "\n",
        "inteiro = 10\n",
        "flutuante = 2.2\n",
        "texto = \"Olá Mundo\"\n",
        "booleano = True"
      ],
      "metadata": {
        "id": "FSpPFFvsuTfk"
      },
      "execution_count": null,
      "outputs": []
    },
    {
      "cell_type": "code",
      "source": [
        "# 3 Estruturas condicionais\n",
        "\n",
        "numero = 7\n",
        "if numero % 2 == 0:\n",
        "  print(f\"O numero {numero} é par\")\n",
        "elif numero > 10:\n",
        "  print(f\"O numero {numero} é maior que 10\")\n",
        "else:\n",
        "  print(f\"O numero {numero} é impar\")"
      ],
      "metadata": {
        "colab": {
          "base_uri": "https://localhost:8080/"
        },
        "id": "35ZaMYuQuriE",
        "outputId": "fc8c563d-6ddc-42a6-db03-587e41e90388"
      },
      "execution_count": null,
      "outputs": [
        {
          "output_type": "stream",
          "name": "stdout",
          "text": [
            "O numero 7 é impar\n"
          ]
        }
      ]
    },
    {
      "cell_type": "code",
      "source": [
        "# 4 Estruturas de repeticao\n",
        "print(\"Contando de 1 a 5 usando for: \")\n",
        "\n",
        "for i in range(1,6): # 6 nao entra na contagem\n",
        "  print(i)\n",
        "\n",
        "print(\"\\nContando de 0 ate 9 usando while:\")\n",
        "contador = 0\n",
        "\n",
        "while contador < 10:\n",
        "  print(contador)\n",
        "  contador += 1"
      ],
      "metadata": {
        "colab": {
          "base_uri": "https://localhost:8080/"
        },
        "id": "YdgjrhBuvtZi",
        "outputId": "8b8dae56-49c1-4971-cd48-5b193c692e40"
      },
      "execution_count": null,
      "outputs": [
        {
          "output_type": "stream",
          "name": "stdout",
          "text": [
            "Contando de 1 a 5 usando for: \n",
            "1\n",
            "2\n",
            "3\n",
            "4\n",
            "5\n",
            "\n",
            "Contando de 0 ate 9 usando while:\n",
            "0\n",
            "1\n",
            "2\n",
            "3\n",
            "4\n",
            "5\n",
            "6\n",
            "7\n",
            "8\n",
            "9\n"
          ]
        }
      ]
    },
    {
      "cell_type": "code",
      "source": [
        "# 5 Listas\n",
        "\n",
        "lista = [1, 2, 3, 4, 5]\n",
        "print(\"Lista original: \", lista)\n",
        "\n",
        "lista.append(6)\n",
        "print(\"Lista após append: \", lista)\n",
        "\n",
        "print(\"Posicao de numero 2 da lista: \", lista[1])\n",
        "\n",
        "lista.pop(2) # tirara a posicao 2 da lista\n",
        "print(\"Lista após pop: \", lista)\n",
        "\n",
        "lista.insert(2,3) # posicao e item que quer adicionar\n",
        "print(\"Lista após insert: \", lista)\n",
        "\n",
        "print(\"Tamanho da lista:\", len(lista))\n",
        "\n",
        "print(\"Somar os itens da lista: \", sum(lista))\n",
        "\n",
        "print(55 in lista)\n",
        "\n",
        "\n",
        "# Concatenar listas\n",
        "\n",
        "lista.extend([7, 8, 9])\n",
        "print(\"Lista após extend: \", lista)\n",
        "\n",
        "a,b = [1, 2]\n",
        "print(a)\n",
        "print(b)"
      ],
      "metadata": {
        "id": "jeQOKFPIwp2a",
        "outputId": "63b06298-270a-4fbc-e7d8-dfe175737296",
        "colab": {
          "base_uri": "https://localhost:8080/"
        }
      },
      "execution_count": null,
      "outputs": [
        {
          "output_type": "stream",
          "name": "stdout",
          "text": [
            "Lista original:  [1, 2, 3, 4, 5]\n",
            "Lista após append:  [1, 2, 3, 4, 5, 6]\n",
            "Posicao de numero 2 da lista:  2\n",
            "Lista após pop:  [1, 2, 4, 5, 6]\n",
            "Lista após insert:  [1, 2, 3, 4, 5, 6]\n",
            "Tamanho da lista: 6\n",
            "Somar os itens da lista:  21\n",
            "False\n",
            "Lista após extend:  [1, 2, 3, 4, 5, 6, 7, 8, 9]\n",
            "1\n",
            "2\n"
          ]
        }
      ]
    },
    {
      "cell_type": "code",
      "source": [
        "# 6 Dicionario\n",
        "\n",
        "dicionario = {\"nome\": \"Alice\", \"idade\": 25, \"cidade\": \"São Paulo\"}\n",
        "print(\"Dicionario \", dicionario)\n",
        "print(dicionario[\"nome\"])\n",
        "\n",
        "dicionario[\"idade\"] = 26\n",
        "print(\"Dicionario apos update\", dicionario)"
      ],
      "metadata": {
        "colab": {
          "base_uri": "https://localhost:8080/"
        },
        "id": "ZKZgFtMJ7W06",
        "outputId": "5d7b22b6-82ab-4c40-8def-be6cf7992518"
      },
      "execution_count": 23,
      "outputs": [
        {
          "output_type": "stream",
          "name": "stdout",
          "text": [
            "Dicionario  {'nome': 'Alice', 'idade': 25, 'cidade': 'São Paulo'}\n",
            "Alice\n",
            "Dicionario apos update {'nome': 'Alice', 'idade': 26, 'cidade': 'São Paulo'}\n"
          ]
        }
      ]
    },
    {
      "cell_type": "code",
      "source": [
        "# 7 Funcoes\n",
        "\n",
        "def saudacao(nome): # tipo any, aceita qualquer tipo\n",
        "  print(f\"Ola {nome}!\")\n",
        "\n",
        "saudacao(\"Alice\")\n",
        "\n",
        "def my_print(message= \"Hello World!\"):\n",
        "  return message\n",
        "\n",
        "my_print()\n",
        "\n",
        "saudacao(my_print())\n",
        "\n",
        "saudacao(my_print(\"Mariana!\"))"
      ],
      "metadata": {
        "colab": {
          "base_uri": "https://localhost:8080/"
        },
        "id": "LMC71GCZ73oK",
        "outputId": "9420e6c3-78b6-4812-9043-fd73c7d0a58d"
      },
      "execution_count": 27,
      "outputs": [
        {
          "output_type": "stream",
          "name": "stdout",
          "text": [
            "Ola Alice!\n",
            "Ola Hello World!!\n",
            "Ola Mariana!!\n"
          ]
        }
      ]
    },
    {
      "cell_type": "code",
      "source": [
        "# 8 Exceções\n",
        "\n",
        "try:\n",
        "  print(0/0)\n",
        "except:\n",
        "  print(\"Erro de divisao por zero\")\n",
        "\n",
        "\n",
        "# Curiosidades\n",
        "print( 0 ** 0)\n",
        "\n",
        "x  = 1e-100 #0.0000000000000000...1\n",
        "print(x ** 0)\n",
        "print(x ** 0.99)\n",
        "print(x ** 0.0001)\n",
        "print(x ** 0.0000000001)"
      ],
      "metadata": {
        "colab": {
          "base_uri": "https://localhost:8080/"
        },
        "id": "46IXq5w-83bh",
        "outputId": "537601e5-bc85-4f79-deb3-092412222bc3"
      },
      "execution_count": 30,
      "outputs": [
        {
          "output_type": "stream",
          "name": "stdout",
          "text": [
            "Erro de divisao por zero\n",
            "1\n",
            "1.0\n",
            "1.000000000000002e-99\n",
            "0.9772372209558107\n",
            "0.9999999769741493\n"
          ]
        }
      ]
    },
    {
      "cell_type": "code",
      "source": [
        "# Valores nulos\n",
        "\n",
        "u = None\n",
        "print(u is None) # Compara se dois objetos sao exatamente a mesma coisa\n",
        "\n",
        "print(u == None) # Não é correto pois está trabalhando igualdades, tentando verificar valores\n"
      ],
      "metadata": {
        "colab": {
          "base_uri": "https://localhost:8080/"
        },
        "id": "rZCwsPDu-WZZ",
        "outputId": "a4483dd8-5cac-4f29-f772-17d69b53f5ed"
      },
      "execution_count": 32,
      "outputs": [
        {
          "output_type": "stream",
          "name": "stdout",
          "text": [
            "True\n",
            "True\n"
          ]
        }
      ]
    },
    {
      "cell_type": "code",
      "source": [
        "# Classe e Objetos\n",
        "\n",
        "class Pessoa:\n",
        "  def __init__(self, nome, idade):\n",
        "    self.nome = nome\n",
        "    self.idade = idade\n",
        "\n",
        "  def falar(self):\n",
        "     return f\"Olá, meu nome é {self.nome} e tenho {self.idade} anos.\"\n",
        "\n",
        "pessoa = Pessoa(\"Alice\", 25)\n",
        "print(pessoa.falar())\n",
        ""
      ],
      "metadata": {
        "colab": {
          "base_uri": "https://localhost:8080/"
        },
        "id": "1kBgaqig--uH",
        "outputId": "36293f72-9431-48f7-864f-807eae94e11d"
      },
      "execution_count": 33,
      "outputs": [
        {
          "output_type": "stream",
          "name": "stdout",
          "text": [
            "Olá, meu nome é Alice e tenho 25 anos.\n"
          ]
        }
      ]
    },
    {
      "cell_type": "code",
      "source": [
        "# Exercicio 1:  Sistema de Categorização Numérica\n",
        "\n",
        "class Categoria:\n",
        "  def __init__(self, categoria):\n",
        "    self.categoria=categoria\n",
        "\n",
        "  def categorizar(self):\n",
        "    somaPar=0\n",
        "    somaImpar=0\n",
        "    pares=[]\n",
        "    impares=[]\n",
        "    for i in range(len(self.categoria)):\n",
        "      if i % 2 == 0:\n",
        "        pares.append(i)\n",
        "      else:\n",
        "        impares.append(i)\n",
        "      return {\"Pares\": pares, \"Impares\": impares}\n",
        "\n",
        "  def imprimir(self):\n",
        "    print(self.categorizar(), sum(dicionario[\"pares\"]), sum(dicionario[\"impares\"]))\n",
        "\n",
        "categoria = Categoria([1, 2, 3, 4, 5, 6, 7, 8, 9])\n",
        "categoria.categorizar()"
      ],
      "metadata": {
        "id": "7yb_gu0eB0e9",
        "outputId": "17608b5a-6110-4d29-fb27-4326a878444f",
        "colab": {
          "base_uri": "https://localhost:8080/"
        }
      },
      "execution_count": 71,
      "outputs": [
        {
          "output_type": "execute_result",
          "data": {
            "text/plain": [
              "{'Pares': [0], 'Impares': []}"
            ]
          },
          "metadata": {},
          "execution_count": 71
        }
      ]
    }
  ],
  "metadata": {
    "kernelspec": {
      "display_name": "aulas_pos",
      "language": "python",
      "name": "python3"
    },
    "language_info": {
      "codemirror_mode": {
        "name": "ipython",
        "version": 3
      },
      "file_extension": ".py",
      "mimetype": "text/x-python",
      "name": "python",
      "nbconvert_exporter": "python",
      "pygments_lexer": "ipython3",
      "version": "3.11.8"
    },
    "colab": {
      "provenance": [],
      "include_colab_link": true
    }
  },
  "nbformat": 4,
  "nbformat_minor": 0
}