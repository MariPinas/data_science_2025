{
  "cells": [
    {
      "cell_type": "markdown",
      "metadata": {
        "id": "1O8ixAdrrI4t"
      },
      "source": [
        "### Introdução à Linguagem Python e suas Estruturas Básicas\n",
        "1. Item da lista\n",
        "2. Item da lista"
      ]
    },
    {
      "cell_type": "code",
      "execution_count": 2,
      "metadata": {
        "colab": {
          "base_uri": "https://localhost:8080/"
        },
        "id": "GNaiDVkHrI4u",
        "outputId": "a9c01a8b-b8fe-44f6-81cb-18e7e1cbaf6c"
      },
      "outputs": [
        {
          "output_type": "stream",
          "name": "stdout",
          "text": [
            "Jank Boteko <3 Didi\n"
          ]
        }
      ],
      "source": [
        "# 1. Introdução\n",
        "\n",
        "print(\"Hello World!\")"
      ]
    }
  ],
  "metadata": {
    "kernelspec": {
      "display_name": "aulas_pos",
      "language": "python",
      "name": "python3"
    },
    "language_info": {
      "codemirror_mode": {
        "name": "ipython",
        "version": 3
      },
      "file_extension": ".py",
      "mimetype": "text/x-python",
      "name": "python",
      "nbconvert_exporter": "python",
      "pygments_lexer": "ipython3",
      "version": "3.11.8"
    },
    "colab": {
      "provenance": []
    }
  },
  "nbformat": 4,
  "nbformat_minor": 0
}