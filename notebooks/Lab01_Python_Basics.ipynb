{
  "cells": [
    {
      "cell_type": "markdown",
      "metadata": {
        "id": "view-in-github",
        "colab_type": "text"
      },
      "source": [
        "<a href=\"https://colab.research.google.com/github/MariPinas/data_science_2025/blob/main/notebooks/Lab01_Python_Basics.ipynb\" target=\"_parent\"><img src=\"https://colab.research.google.com/assets/colab-badge.svg\" alt=\"Open In Colab\"/></a>"
      ]
    },
    {
      "cell_type": "markdown",
      "metadata": {
        "id": "1O8ixAdrrI4t"
      },
      "source": [
        "### Introdução à Linguagem Python e suas Estruturas Básicas\n",
        "1. Item da lista\n",
        "2. Item da lista"
      ]
    },
    {
      "cell_type": "code",
      "execution_count": null,
      "metadata": {
        "colab": {
          "base_uri": "https://localhost:8080/"
        },
        "id": "GNaiDVkHrI4u",
        "outputId": "88f6f58f-91f9-49ed-c390-31d734bf06b7"
      },
      "outputs": [
        {
          "output_type": "stream",
          "name": "stdout",
          "text": [
            "Hello World!\n",
            "Valor da variavel 1 = 2.45\n"
          ]
        }
      ],
      "source": [
        "# 1. Introdução\n",
        "\n",
        "print(\"Hello World!\")\n",
        "\n",
        "var1 = 2.45 # Dinamicamente tipado como float\n",
        "\n",
        "print(f\"Valor da variavel 1 = {var1}\") # string formatada para colocar variaveis dentro dela\n"
      ]
    },
    {
      "cell_type": "code",
      "source": [
        "# 2 Variáveis e tipos de dados\n",
        "\n",
        "inteiro = 10\n",
        "flutuante = 2.2\n",
        "texto = \"Olá Mundo\"\n",
        "booleano = True"
      ],
      "metadata": {
        "id": "FSpPFFvsuTfk"
      },
      "execution_count": null,
      "outputs": []
    },
    {
      "cell_type": "code",
      "source": [
        "# 3 Estruturas condicionais\n",
        "\n",
        "numero = 7\n",
        "if numero % 2 == 0:\n",
        "  print(f\"O numero {numero} é par\")\n",
        "elif numero > 10:\n",
        "  print(f\"O numero {numero} é maior que 10\")\n",
        "else:\n",
        "  print(f\"O numero {numero} é impar\")"
      ],
      "metadata": {
        "colab": {
          "base_uri": "https://localhost:8080/"
        },
        "id": "35ZaMYuQuriE",
        "outputId": "fc8c563d-6ddc-42a6-db03-587e41e90388"
      },
      "execution_count": null,
      "outputs": [
        {
          "output_type": "stream",
          "name": "stdout",
          "text": [
            "O numero 7 é impar\n"
          ]
        }
      ]
    },
    {
      "cell_type": "code",
      "source": [
        "# 4 Estruturas de repeticao\n",
        "print(\"Contando de 1 a 5 usando for: \")\n",
        "\n",
        "for i in range(1,6): # 6 nao entra na contagem\n",
        "  print(i)\n",
        "\n",
        "print(\"\\nContando de 0 ate 9 usando while:\")\n",
        "contador = 0\n",
        "\n",
        "while contador < 10:\n",
        "  print(contador)\n",
        "  contador += 1"
      ],
      "metadata": {
        "colab": {
          "base_uri": "https://localhost:8080/"
        },
        "id": "YdgjrhBuvtZi",
        "outputId": "8b8dae56-49c1-4971-cd48-5b193c692e40"
      },
      "execution_count": null,
      "outputs": [
        {
          "output_type": "stream",
          "name": "stdout",
          "text": [
            "Contando de 1 a 5 usando for: \n",
            "1\n",
            "2\n",
            "3\n",
            "4\n",
            "5\n",
            "\n",
            "Contando de 0 ate 9 usando while:\n",
            "0\n",
            "1\n",
            "2\n",
            "3\n",
            "4\n",
            "5\n",
            "6\n",
            "7\n",
            "8\n",
            "9\n"
          ]
        }
      ]
    },
    {
      "cell_type": "code",
      "source": [
        "# 5 Listas\n",
        "\n",
        "lista = [1, 2, 3, 4, 5]\n",
        "print(\"Lista original: \", lista)\n",
        "\n",
        "lista.append(6)\n",
        "print(\"Lista após append: \", lista)\n",
        "\n",
        "print(\"Posicao de numero 2 da lista: \", lista[1])\n",
        "\n",
        "lista.pop(2) # tirara a posicao 2 da lista\n",
        "print(\"Lista após pop: \", lista)\n",
        "\n",
        "lista.insert(2,3) # posicao e item que quer adicionar\n",
        "print(\"Lista após insert: \", lista)\n",
        "\n",
        "print(\"Tamanho da lista:\", len(lista))\n",
        "\n",
        "print(\"Somar os itens da lista: \", sum(lista))\n",
        "\n",
        "print(55 in lista)\n",
        "\n",
        "\n",
        "# Concatenar listas\n",
        "\n",
        "lista.extend([7, 8, 9])\n",
        "print(\"Lista após extend: \", lista)\n",
        "\n",
        "a,b = [1, 2]\n",
        "print(a)\n",
        "print(b)"
      ],
      "metadata": {
        "id": "jeQOKFPIwp2a",
        "outputId": "63b06298-270a-4fbc-e7d8-dfe175737296",
        "colab": {
          "base_uri": "https://localhost:8080/"
        }
      },
      "execution_count": null,
      "outputs": [
        {
          "output_type": "stream",
          "name": "stdout",
          "text": [
            "Lista original:  [1, 2, 3, 4, 5]\n",
            "Lista após append:  [1, 2, 3, 4, 5, 6]\n",
            "Posicao de numero 2 da lista:  2\n",
            "Lista após pop:  [1, 2, 4, 5, 6]\n",
            "Lista após insert:  [1, 2, 3, 4, 5, 6]\n",
            "Tamanho da lista: 6\n",
            "Somar os itens da lista:  21\n",
            "False\n",
            "Lista após extend:  [1, 2, 3, 4, 5, 6, 7, 8, 9]\n",
            "1\n",
            "2\n"
          ]
        }
      ]
    },
    {
      "cell_type": "code",
      "source": [
        "# Dicionario\n",
        "\n",
        "dicionario = {\"nome\": \"Alice\", \"idade\": 25, \"cidade\": \"São Paulo\"}\n",
        "print(\"Dicionario \", dicionario)\n",
        "print(dicionario[\"nome\"])\n",
        "\n",
        "dicionario[\"idade\"] = 26\n",
        "print(\"Dicionario apos update\", dicionario)"
      ],
      "metadata": {
        "id": "ZKZgFtMJ7W06",
        "outputId": "5d7b22b6-82ab-4c40-8def-be6cf7992518",
        "colab": {
          "base_uri": "https://localhost:8080/"
        }
      },
      "execution_count": 23,
      "outputs": [
        {
          "output_type": "stream",
          "name": "stdout",
          "text": [
            "Dicionario  {'nome': 'Alice', 'idade': 25, 'cidade': 'São Paulo'}\n",
            "Alice\n",
            "Dicionario apos update {'nome': 'Alice', 'idade': 26, 'cidade': 'São Paulo'}\n"
          ]
        }
      ]
    }
  ],
  "metadata": {
    "kernelspec": {
      "display_name": "aulas_pos",
      "language": "python",
      "name": "python3"
    },
    "language_info": {
      "codemirror_mode": {
        "name": "ipython",
        "version": 3
      },
      "file_extension": ".py",
      "mimetype": "text/x-python",
      "name": "python",
      "nbconvert_exporter": "python",
      "pygments_lexer": "ipython3",
      "version": "3.11.8"
    },
    "colab": {
      "provenance": [],
      "include_colab_link": true
    }
  },
  "nbformat": 4,
  "nbformat_minor": 0
}