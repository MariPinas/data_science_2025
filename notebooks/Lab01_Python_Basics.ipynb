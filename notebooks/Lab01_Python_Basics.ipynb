{
  "cells": [
    {
      "cell_type": "markdown",
      "metadata": {
        "id": "1O8ixAdrrI4t"
      },
      "source": [
        "### Introdução à Linguagem Python e suas Estruturas Básicas\n",
        "1. Item da lista\n",
        "2. Item da lista"
      ]
    },
    {
      "cell_type": "code",
      "execution_count": 3,
      "metadata": {
        "colab": {
          "base_uri": "https://localhost:8080/"
        },
        "id": "GNaiDVkHrI4u",
        "outputId": "eeafebb2-8255-4658-d453-e4318762bc39"
      },
      "outputs": [
        {
          "output_type": "stream",
          "name": "stdout",
          "text": [
            "Hello World!\n"
          ]
        }
      ],
      "source": [
        "# 1. Introdução\n",
        "\n",
        "print(\"Hello World!\")\n",
        "\n",
        "var1 = 2.45 # Dinamicamente tipado como float\n",
        "\n",
        "print(f\"Valor da variavel 1 = {var1}\") # string formatada para colocar variaveis dentro dela\n"
      ]
    }
  ],
  "metadata": {
    "kernelspec": {
      "display_name": "aulas_pos",
      "language": "python",
      "name": "python3"
    },
    "language_info": {
      "codemirror_mode": {
        "name": "ipython",
        "version": 3
      },
      "file_extension": ".py",
      "mimetype": "text/x-python",
      "name": "python",
      "nbconvert_exporter": "python",
      "pygments_lexer": "ipython3",
      "version": "3.11.8"
    },
    "colab": {
      "provenance": []
    }
  },
  "nbformat": 4,
  "nbformat_minor": 0
}