{
  "cells": [
    {
      "cell_type": "markdown",
      "metadata": {
        "id": "HmClZ7Wk63mg"
      },
      "source": [
        "# Exercícios Pandas\n",
        "\n",
        "#### 1)  crie uma série do pandas a partir de uma lista com os dados abaixo:\n",
        "\n",
        "Em um estudo sobre alteração na tempreatura global, A NASA disponibiliza dados de diferenças de temperatura média da superfície terrestre relativos às médias de temperatura entre 1951 e 1980. Os dados originais podem ser vistos no site da NASA/GISS, e estão dispostos a cada década na tabela abaixo.\n",
        "\n",
        "|ano|anomalia térmica|\n",
        "|:-:|:----:|\n",
        "| 1900 | -0.08 |\n",
        "| 1920 | -0.27 |\n",
        "| 1940 | 0.12 |\n",
        "| 1960 | -0.03 |\n",
        "| 1980 | 0.26 |\n",
        "| 2000 | 0.40 |\n",
        "| 2020 | 1.02 |\n",
        "\n",
        "Crie uma séries do Pandas a partir de uma lista com esses dados."
      ]
    },
    {
      "cell_type": "code",
      "execution_count": 13,
      "metadata": {
        "id": "BZxSevYd63mh",
        "outputId": "78de4da0-3211-4021-f469-8d2098e63600",
        "colab": {
          "base_uri": "https://localhost:8080/",
          "height": 304
        }
      },
      "outputs": [
        {
          "output_type": "execute_result",
          "data": {
            "text/plain": [
              "1900   -0.08\n",
              "1920   -0.27\n",
              "1940    0.12\n",
              "1960   -0.03\n",
              "1980    0.26\n",
              "2000    0.40\n",
              "2020    1.02\n",
              "Name: Anomalia térmica, dtype: float64"
            ],
            "text/html": [
              "<div>\n",
              "<style scoped>\n",
              "    .dataframe tbody tr th:only-of-type {\n",
              "        vertical-align: middle;\n",
              "    }\n",
              "\n",
              "    .dataframe tbody tr th {\n",
              "        vertical-align: top;\n",
              "    }\n",
              "\n",
              "    .dataframe thead th {\n",
              "        text-align: right;\n",
              "    }\n",
              "</style>\n",
              "<table border=\"1\" class=\"dataframe\">\n",
              "  <thead>\n",
              "    <tr style=\"text-align: right;\">\n",
              "      <th></th>\n",
              "      <th>Anomalia térmica</th>\n",
              "    </tr>\n",
              "  </thead>\n",
              "  <tbody>\n",
              "    <tr>\n",
              "      <th>1900</th>\n",
              "      <td>-0.08</td>\n",
              "    </tr>\n",
              "    <tr>\n",
              "      <th>1920</th>\n",
              "      <td>-0.27</td>\n",
              "    </tr>\n",
              "    <tr>\n",
              "      <th>1940</th>\n",
              "      <td>0.12</td>\n",
              "    </tr>\n",
              "    <tr>\n",
              "      <th>1960</th>\n",
              "      <td>-0.03</td>\n",
              "    </tr>\n",
              "    <tr>\n",
              "      <th>1980</th>\n",
              "      <td>0.26</td>\n",
              "    </tr>\n",
              "    <tr>\n",
              "      <th>2000</th>\n",
              "      <td>0.40</td>\n",
              "    </tr>\n",
              "    <tr>\n",
              "      <th>2020</th>\n",
              "      <td>1.02</td>\n",
              "    </tr>\n",
              "  </tbody>\n",
              "</table>\n",
              "</div><br><label><b>dtype:</b> float64</label>"
            ]
          },
          "metadata": {},
          "execution_count": 13
        }
      ],
      "source": [
        "import pandas as pd\n",
        "import numpy as np\n",
        "\n",
        "series = pd.Series([-0.08, -0.27, 0.12, -0.03, 0.26, 0.40, 1.02], index= ['1900', '1920', '1940', '1960', '1980', '2000', '2020'], name='Anomalia térmica')\n",
        "series"
      ]
    },
    {
      "cell_type": "markdown",
      "metadata": {
        "id": "lYDwXbIE63mj"
      },
      "source": [
        "#### 2) Coloque os anos nos índices conforme a tabela."
      ]
    },
    {
      "cell_type": "code",
      "execution_count": 16,
      "metadata": {
        "id": "yxanpi1o63mk",
        "outputId": "eeea4fac-6ee4-419b-d3a7-ddcebb929550",
        "colab": {
          "base_uri": "https://localhost:8080/",
          "height": 304
        }
      },
      "outputs": [
        {
          "output_type": "execute_result",
          "data": {
            "text/plain": [
              "1900   -0.08\n",
              "1920   -0.27\n",
              "1940    0.12\n",
              "1960   -0.03\n",
              "1980    0.26\n",
              "2000    0.40\n",
              "2020    1.02\n",
              "Name: Anomalia térmica, dtype: float64"
            ],
            "text/html": [
              "<div>\n",
              "<style scoped>\n",
              "    .dataframe tbody tr th:only-of-type {\n",
              "        vertical-align: middle;\n",
              "    }\n",
              "\n",
              "    .dataframe tbody tr th {\n",
              "        vertical-align: top;\n",
              "    }\n",
              "\n",
              "    .dataframe thead th {\n",
              "        text-align: right;\n",
              "    }\n",
              "</style>\n",
              "<table border=\"1\" class=\"dataframe\">\n",
              "  <thead>\n",
              "    <tr style=\"text-align: right;\">\n",
              "      <th></th>\n",
              "      <th>Anomalia térmica</th>\n",
              "    </tr>\n",
              "  </thead>\n",
              "  <tbody>\n",
              "    <tr>\n",
              "      <th>1900</th>\n",
              "      <td>-0.08</td>\n",
              "    </tr>\n",
              "    <tr>\n",
              "      <th>1920</th>\n",
              "      <td>-0.27</td>\n",
              "    </tr>\n",
              "    <tr>\n",
              "      <th>1940</th>\n",
              "      <td>0.12</td>\n",
              "    </tr>\n",
              "    <tr>\n",
              "      <th>1960</th>\n",
              "      <td>-0.03</td>\n",
              "    </tr>\n",
              "    <tr>\n",
              "      <th>1980</th>\n",
              "      <td>0.26</td>\n",
              "    </tr>\n",
              "    <tr>\n",
              "      <th>2000</th>\n",
              "      <td>0.40</td>\n",
              "    </tr>\n",
              "    <tr>\n",
              "      <th>2020</th>\n",
              "      <td>1.02</td>\n",
              "    </tr>\n",
              "  </tbody>\n",
              "</table>\n",
              "</div><br><label><b>dtype:</b> float64</label>"
            ]
          },
          "metadata": {},
          "execution_count": 16
        }
      ],
      "source": [
        "series2 = pd.Series([-0.08, -0.27, 0.12, -0.03, 0.26, 0.40, 1.02], index= ['1900', '1920', '1940', '1960', '1980', '2000', '2020'], name='Anomalia térmica')\n",
        "series"
      ]
    },
    {
      "cell_type": "markdown",
      "metadata": {
        "id": "rbXTIyzf63mk"
      },
      "source": [
        "#### 3) A partir do dicionário abaixo, crie uma séries do Pandas:"
      ]
    },
    {
      "cell_type": "code",
      "execution_count": null,
      "metadata": {
        "id": "2kZIOPsr63mk"
      },
      "outputs": [],
      "source": [
        "dic_temperaturas = {1900: -.08, 1920: -.27, 1940: .12, 1960: -.03, 1980: .26, 2000: .40, 2020: 1.02}\n",
        "\n",
        "series3 =\n"
      ]
    },
    {
      "cell_type": "markdown",
      "metadata": {
        "id": "C99KOLR963ml"
      },
      "source": [
        "#### 4) Transforme o ndarray abaixo em um dataframe.\n",
        "O numpy é capaz de gerar arrays n-dimensionais com números pseudo-aleatórios de acordo com uma variedade de distribuições, como no exemplo abaixo. Transforme esse nd-array em um DataFrame."
      ]
    },
    {
      "cell_type": "code",
      "execution_count": null,
      "metadata": {
        "id": "rVkr6hmq63ml"
      },
      "outputs": [],
      "source": [
        "arr = np.random.normal(100, 10, (20,3))\n",
        "\n",
        "# seu código aqui\n",
        "\n"
      ]
    },
    {
      "cell_type": "markdown",
      "metadata": {
        "id": "C6T2qBTx63ml"
      },
      "source": [
        "#### 5) Nomeie os índices das linhas com inteiros de 1 a 20, e as colunas com os nomes \"x1\", \"x2\", e \"x3\" respectivamente."
      ]
    },
    {
      "cell_type": "code",
      "execution_count": null,
      "metadata": {
        "id": "rOXdiXoU63mm"
      },
      "outputs": [],
      "source": [
        "#seu código aqui\n",
        "\n"
      ]
    },
    {
      "cell_type": "markdown",
      "metadata": {
        "id": "crXhHiHZ63mm"
      },
      "source": [
        "#### 6) No DataFrame do exercício 5, crie uma nova coluna como sendo a média das três colunas, e dê a ela o nome de \"media\" (não recomendo colocar acentos em nomes de variáveis)."
      ]
    },
    {
      "cell_type": "code",
      "execution_count": null,
      "metadata": {
        "id": "u_OJXkgb63mm"
      },
      "outputs": [],
      "source": [
        "# seu código aqui\n",
        "\n"
      ]
    },
    {
      "cell_type": "markdown",
      "metadata": {
        "id": "OIBNh8cZ63mn"
      },
      "source": [
        "#### 7) No DataFrame do exercício 6, crie uma nova coluna chamada \"log_med\", contendo o logaritmo natural da média calculada no exercício 6 <br>"
      ]
    },
    {
      "cell_type": "code",
      "execution_count": null,
      "metadata": {
        "id": "VSIokk6R63mn"
      },
      "outputs": [],
      "source": [
        "# seu código aqui\n",
        "\n"
      ]
    },
    {
      "cell_type": "markdown",
      "metadata": {
        "id": "R2g-x7vW43eO"
      },
      "source": [
        "#### 8) Análise de Vendas de Jogos Eletrônicos com Pandas\n",
        "\n",
        "1. Baixe o dataset **\"Venda de jogos\"** (Video Game Sales), que contém dados sobre jogos com mais de 100.000 cópias vendidas.\n",
        "\n",
        "- Baixe a base: [Clique aqui para baixar o arquivo](https://drive.google.com/file/d/1LTQSnw4ft90OCA7k2OwPw71MGY52FrSI/view?usp=sharing)\n",
        "\n",
        "A fonte original é o site [vgchartz.com](https://www.vgchartz.com).\n",
        "\n",
        "2. Carregue os dados usando a biblioteca `pandas`.\n",
        "3. Responda às perguntas abaixo com base na sua análise.\n",
        "\n",
        "#### Dicionário de Dados - Venda de Jogos\n",
        "\n",
        "Este dicionário descreve cada uma das colunas presentes no dataset de vendas de jogos eletrônicos.\n",
        "\n",
        "| Coluna         | Tipo de Dado     | Descrição                                                                 |\n",
        "|----------------|------------------|---------------------------------------------------------------------------|\n",
        "| `Rank`         | Inteiro          | Posição no ranking geral de vendas globais.                              |\n",
        "| `Name`         | Texto (string)   | Nome do jogo.                                                             |\n",
        "| `Platform`     | Texto (string)   | Plataforma em que o jogo foi lançado (ex: PS4, PC, Xbox One, etc.).      |\n",
        "| `Year`         | Numérico (float) | Ano de lançamento do jogo.                                               |\n",
        "| `Genre`        | Texto (string)   | Gênero do jogo (ex: Action, Sports, RPG, etc.).                          |\n",
        "| `Publisher`    | Texto (string)   | Empresa responsável pela publicação do jogo.                             |\n",
        "| `NA_Sales`     | Numérico (float) | Vendas na América do Norte (em milhões de unidades).                     |\n",
        "| `EU_Sales`     | Numérico (float) | Vendas na Europa (em milhões de unidades).                               |\n",
        "| `JP_Sales`     | Numérico (float) | Vendas no Japão (em milhões de unidades).                                |\n",
        "| `Other_Sales`  | Numérico (float) | Vendas no restante do mundo (exceto NA, EU e JP), em milhões de unidades.|\n",
        "| `Global_Sales` | Numérico (float) | Total de vendas globais (em milhões de unidades).                        |\n",
        "\n",
        "\n",
        "---\n",
        "\n",
        "## Perguntas\n",
        "\n",
        "1. **Qual foi o gênero de jogo com o maior volume de vendas globais (`Global_Sales`)?**  \n",
        "   *Dica:* Use `groupby` com a coluna `Genre` e some as vendas globais.\n",
        "\n",
        "2. **Quais são as 5 plataformas com maior média de vendas na América do Norte (`NA_Sales`)?**  \n",
        "   *Dica:* Use `groupby` na coluna `Platform` e calcule a média de `NA_Sales`.\n",
        "\n",
        "3. **Qual publisher lançou o maior número de jogos entre os anos de 2000 e 2010?**  \n",
        "   *Dica:* Filtre as linhas com `Year` entre 2000 e 2010 e conte os jogos por `Publisher`.\n",
        "\n",
        "4. **Existe alguma relação aparente entre as vendas no Japão (`JP_Sales`) e o gênero do jogo?**  \n",
        "   *Dica:* Compare as médias ou medianas de `JP_Sales` por `Genre` e descreva o que observou.\n",
        "\n"
      ]
    },
    {
      "cell_type": "markdown",
      "metadata": {
        "id": "xdFCT7eu63mn"
      },
      "source": [
        "---"
      ]
    }
  ],
  "metadata": {
    "colab": {
      "provenance": []
    },
    "kernelspec": {
      "display_name": "base",
      "language": "python",
      "name": "python3"
    },
    "language_info": {
      "codemirror_mode": {
        "name": "ipython",
        "version": 3
      },
      "file_extension": ".py",
      "mimetype": "text/x-python",
      "name": "python",
      "nbconvert_exporter": "python",
      "pygments_lexer": "ipython3",
      "version": "3.11.7"
    }
  },
  "nbformat": 4,
  "nbformat_minor": 0
}