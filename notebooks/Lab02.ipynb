{
  "cells": [
    {
      "cell_type": "markdown",
      "metadata": {
        "id": "rTUGilGG4q6p"
      },
      "source": [
        "# A Importância do NumPy na Ciência de Dados e Computação Científica\n",
        "\n",
        "NumPy (Numerical Python) é uma biblioteca fundamental para computação científica em Python. Ele fornece:\n",
        "- Objetos de array multidimensionais de alto desempenho\n",
        "- Ferramentas para trabalhar com esses arrays\n",
        "- Funções matemáticas otimizadas\n",
        "\n",
        "Vamos explorar por que o NumPy é tão importante e mostrar alguns exemplos práticos."
      ]
    },
    {
      "cell_type": "markdown",
      "metadata": {
        "id": "UBT8TIIS4q6q"
      },
      "source": [
        "## Por que o NumPy é importante?\n",
        "\n",
        "1. **Desempenho**: Operações vetorizadas são muito mais rápidas que loops em Python puro\n",
        "2. **Eficiência de memória**: Arrays NumPy ocupam menos espaço que listas Python\n",
        "3. **Funcionalidades avançadas**: Álgebra linear, transformadas de Fourier, geração de números aleatórios\n",
        "4. **Base para outras bibliotecas**: Pandas, SciPy, scikit-learn e matplotlib são construídos sobre NumPy\n",
        "5. **Interface unificada**: Sintaxe consistente para operações com arrays"
      ]
    },
    {
      "cell_type": "code",
      "execution_count": 1,
      "metadata": {
        "id": "_OheuZIp4q6r"
      },
      "outputs": [],
      "source": [
        "# Importando Blibiotecas\n",
        "\n",
        "import numpy as np\n",
        "import time\n",
        "import sys"
      ]
    },
    {
      "cell_type": "code",
      "execution_count": null,
      "metadata": {
        "id": "T-g9bLKr4q6r",
        "outputId": "04c72603-f8d0-4d1a-995d-ef163217d8d5"
      },
      "outputs": [
        {
          "name": "stdout",
          "output_type": "stream",
          "text": [
            "Tempo Python: 0.04754 segundos\n",
            "Tempo NumPy: 0.00102 segundos\n",
            "NumPy foi 46.6 vezes mais rápido!\n"
          ]
        }
      ],
      "source": [
        "# Exemplo 1: Comparação de desempenho\n",
        "\n",
        "py_list = list(range(1000000))\n",
        "np_array = np.arange(1000000)\n",
        "\n",
        "# Soma com Python\n",
        "start = time.time()\n",
        "sum_py = sum(py_list)\n",
        "py_time = time.time() - start\n",
        "\n",
        "# Soma com NumPy\n",
        "start = time.time()\n",
        "sum_np = np.sum(np_array)\n",
        "np_time = time.time() - start\n",
        "\n",
        "print(f\"Tempo Python: {py_time:.5f} segundos\")\n",
        "print(f\"Tempo NumPy: {np_time:.5f} segundos\")\n",
        "print(f\"NumPy foi {py_time/np_time:.1f} vezes mais rápido!\")"
      ]
    },
    {
      "cell_type": "code",
      "execution_count": null,
      "metadata": {
        "id": "od2MnnB94q6s",
        "outputId": "39ee9518-402c-4203-f03f-f93893bda404"
      },
      "outputs": [
        {
          "name": "stdout",
          "output_type": "stream",
          "text": [
            "Tamanho da lista Python: 8000056 bytes\n",
            "Tamanho do array NumPy: 4000112 bytes\n"
          ]
        }
      ],
      "source": [
        "# Exemplo 2: Eficiência de memória\n",
        "# Vamos comparar o consumo de memória entre listas e arrays NumPy\n",
        "\n",
        "print(f\"Tamanho da lista Python: {sys.getsizeof(py_list)} bytes\")\n",
        "print(f\"Tamanho do array NumPy: {sys.getsizeof(np_array)} bytes\")"
      ]
    },
    {
      "cell_type": "code",
      "execution_count": null,
      "metadata": {
        "id": "4YwE2STA4q6s"
      },
      "outputs": [],
      "source": [
        "# Operações matemáticas\n",
        "\n",
        "a = np.array([1, 2, 3, 4, 5])\n",
        "b = np.array([6, 7, 8, 9, 10])\n",
        "\n",
        "print(\"Soma:\", a + b)\n",
        "print(\"Multiplicação:\", a * b)\n",
        "print(\"Exponenciação:\", a ** 2)\n",
        "print(\"Seno:\", np.sin(a))"
      ]
    },
    {
      "cell_type": "code",
      "execution_count": null,
      "metadata": {
        "id": "PlT6_ut74q6s"
      },
      "outputs": [],
      "source": [
        "#Teste dentro do array\n",
        "\n",
        "arr = np.array([1, 2, 3, 4])\n",
        "result_where = np.where(arr > 2, 'Maior', 'Menor')"
      ]
    },
    {
      "cell_type": "code",
      "execution_count": 3,
      "metadata": {
        "colab": {
          "base_uri": "https://localhost:8080/"
        },
        "id": "k41yb8ss4q6s",
        "outputId": "fc47d9d2-5d30-46f6-a648-20e48528a2a3"
      },
      "outputs": [
        {
          "output_type": "stream",
          "name": "stdout",
          "text": [
            "[[1 4]\n",
            " [2 5]\n",
            " [3 6]]\n"
          ]
        }
      ],
      "source": [
        "# Empilha arrays como colunas\n",
        "a = np.array([1, 2, 3])\n",
        "b = np.array([4, 5, 6])\n",
        "result_stack = np.column_stack((a, b))\n",
        "\n",
        "print(result_stack)"
      ]
    },
    {
      "cell_type": "code",
      "execution_count": null,
      "metadata": {
        "id": "tXHYl1O24q6s"
      },
      "outputs": [],
      "source": [
        "# Operações matriciais\n",
        "\n",
        "# Criando matrizes\n",
        "A = np.array([[1, 2], [3, 4]])\n",
        "B = np.array([[5, 6], [7, 8]])\n",
        "\n",
        "print(\"Multiplicação de matrizes:\\n\", np.dot(A, B))\n",
        "print(\"Determinante de A:\", np.linalg.det(A))\n",
        "print(\"Inversa de A:\\n\", np.linalg.inv(A))"
      ]
    },
    {
      "cell_type": "code",
      "execution_count": null,
      "metadata": {
        "id": "-OgFwMzy4q6s"
      },
      "outputs": [],
      "source": [
        "# NumPy oferece maneiras poderosas de selecionar dados\n",
        "\n",
        "arr = np.arange(1, 26).reshape(5, 5)\n",
        "print(\"Array original:\\n\", arr)\n",
        "\n",
        "# Selecionando linhas e colunas\n",
        "print(\"Primeira linha:\", arr[0])\n",
        "print(\"Última coluna:\", arr[:, -1])\n",
        "\n",
        "# Seleção condicional\n",
        "print(\"Valores maiores que 10:\", arr[arr > 10])"
      ]
    },
    {
      "cell_type": "code",
      "execution_count": null,
      "metadata": {
        "id": "XjCGOShO4q6t",
        "outputId": "fb977255-41ab-4e6d-d96b-99c2593c497f"
      },
      "outputs": [
        {
          "name": "stdout",
          "output_type": "stream",
          "text": [
            "Broadcasting (a + b): [3 4 5]\n",
            "[[1. 1. 1.]\n",
            " [1. 1. 1.]\n",
            " [1. 1. 1.]]\n",
            "Matrix + row:\n",
            " [[2. 3. 4.]\n",
            " [2. 3. 4.]\n",
            " [2. 3. 4.]]\n"
          ]
        }
      ],
      "source": [
        "#Operações entre arrays de diferentes tamanhos\n",
        "\n",
        "a = np.array([1, 2, 3])\n",
        "b = 2  # Escalar\n",
        "\n",
        "print(\"Broadcasting (a + b):\", a + b)\n",
        "\n",
        "\n",
        "matrix = np.ones((3, 3))\n",
        "\n",
        "print(matrix)\n",
        "row = np.array([1, 2, 3])\n",
        "\n",
        "print(\"Matrix + row:\\n\", matrix + row)"
      ]
    },
    {
      "cell_type": "code",
      "execution_count": null,
      "metadata": {
        "id": "QrDobzim4q6t",
        "outputId": "73755a05-ef68-4795-bb41-032d36094444"
      },
      "outputs": [
        {
          "name": "stdout",
          "output_type": "stream",
          "text": [
            "Seno: [0.84147098 0.90929743 0.14112001]\n",
            "Cosseno: [ 0.54030231 -0.41614684 -0.9899925 ]\n",
            "Exponencial: [ 2.71828183  7.3890561  20.08553692]\n",
            "Logaritmo: [0.         0.69314718 1.09861229]\n",
            "Raiz quadrada: [1.         1.41421356 1.73205081]\n"
          ]
        }
      ],
      "source": [
        "# Funções Matemáticas Universais\n",
        "\n",
        "print(\"Seno:\", np.sin(a))\n",
        "print(\"Cosseno:\", np.cos(a))\n",
        "print(\"Exponencial:\", np.exp(a))\n",
        "print(\"Logaritmo:\", np.log(a))\n",
        "print(\"Raiz quadrada:\", np.sqrt(a))"
      ]
    },
    {
      "cell_type": "code",
      "execution_count": null,
      "metadata": {
        "id": "AXuT7HcK4q6t",
        "outputId": "796b3761-51b3-488f-fe6b-49c1fee10196"
      },
      "outputs": [
        {
          "name": "stdout",
          "output_type": "stream",
          "text": [
            "Soma total: 6\n",
            "Produto total: 6\n",
            "Média: 2.0\n",
            "Desvio padrão: 0.816496580927726\n",
            "Valor máximo: 3\n",
            "Índice do máximo: 2\n",
            "Valor mínimo: 1\n"
          ]
        }
      ],
      "source": [
        "# Operações de Redução (ao longo do array)\n",
        "\n",
        "print(\"Soma total:\", np.sum(a))\n",
        "print(\"Produto total:\", np.prod(a))\n",
        "print(\"Média:\", np.mean(a))\n",
        "print(\"Desvio padrão:\", np.std(a))\n",
        "print(\"Valor máximo:\", np.max(a))\n",
        "print(\"Índice do máximo:\", np.argmax(a))\n",
        "print(\"Valor mínimo:\", np.min(a))"
      ]
    },
    {
      "cell_type": "code",
      "execution_count": null,
      "metadata": {
        "id": "BBpbvv1m4q6t"
      },
      "outputs": [],
      "source": [
        "# Comparações e Operações Lógicas\n",
        "\n",
        "print(\"Comparação:\", a > 2)\n",
        "print(\"Filtro:\", a[a > 2])\n",
        "print(\"AND lógico:\", (a > 1) & (a < 4))"
      ]
    },
    {
      "cell_type": "markdown",
      "metadata": {
        "id": "cABs2XM14q6t"
      },
      "source": [
        "# Exercícios com NumPy - Operações Simples com Vetores e Matrizes"
      ]
    },
    {
      "cell_type": "markdown",
      "metadata": {
        "id": "apnNStXT4q6t"
      },
      "source": [
        "## Exercício 1: Cálculo de Média Ponderada\n",
        "\n",
        "Você é professor de uma disciplina e precisa calcular a nota final dos alunos usando um sistema de pesos diferentes para cada avaliação.\n",
        "\n",
        "Dados:\n",
        "- Notas de um aluno: `[7.5, 8.0, 6.5, 9.0]` (quatro avaliações)\n",
        "- Pesos respectivos: `[0.2, 0.3, 0.2, 0.3]`\n",
        "\n",
        "**Sua tarefa:**\n",
        "1. Crie dois arrays NumPy com os dados fornecidos\n",
        "2. Calcule a média ponderada usando operações vetorizadas\n",
        "3. Arredonde o resultado para 1 casa decimal\n",
        "4. Exiba o resultado final\n",
        "\n",
        "**Dica:**  \n",
        "Lembre-se que média ponderada = Σ(nota × peso) / Σ(pesos)"
      ]
    },
    {
      "cell_type": "code",
      "source": [
        "notas = np.array([7.5, 8.0, 6.5, 9.0])\n",
        "pesos = np.array([0.2, 0.3, 0.2, 0.3])\n",
        "\n",
        "mediaP = sum(notas * pesos) / sum(pesos)\n",
        "mediaP = round(mediaP, 1)\n",
        "print(mediaP)\n"
      ],
      "metadata": {
        "colab": {
          "base_uri": "https://localhost:8080/"
        },
        "id": "b18M_waV4vff",
        "outputId": "83ed2ae8-969f-423c-8e0d-70123f89166b"
      },
      "execution_count": 12,
      "outputs": [
        {
          "output_type": "stream",
          "name": "stdout",
          "text": [
            "7.9\n"
          ]
        }
      ]
    },
    {
      "cell_type": "markdown",
      "metadata": {
        "id": "j-EaA_o44q6u"
      },
      "source": [
        "## Exercício 2: Conversão de Temperaturas\n",
        "\n",
        "Você está trabalhando com dados meteorológicos e precisa converter uma série de temperaturas de Celsius para Fahrenheit.\n",
        "\n",
        "Dados:\n",
        "- Temperaturas em Celsius: `[0, 10, 20, 30, 40]`\n",
        "\n",
        "**Sua tarefa:**\n",
        "1. Crie um array NumPy com as temperaturas em Celsius\n",
        "2. Aplique a fórmula de conversão:  \n",
        "   `Fahrenheit = (Celsius × 9/5) + 32`\n",
        "3. Crie um novo array com as temperaturas convertidas\n",
        "4. Exiba ambos os arrays (Celsius e Fahrenheit) para comparação\n",
        "\n",
        "**Dica:**  \n",
        "NumPy permite aplicar operações matemáticas a arrays inteiros sem necessidade de loops."
      ]
    },
    {
      "cell_type": "code",
      "source": [
        "celsius = np.array([0, 10, 20, 30, 40])\n",
        "\n",
        "fahrenheit = np.array((celsius * 9/5) + 32)\n",
        "\n",
        "print(celsius)\n",
        "print(fahrenheit)"
      ],
      "metadata": {
        "colab": {
          "base_uri": "https://localhost:8080/"
        },
        "id": "F1Cvn50WTnT5",
        "outputId": "41090f06-f4eb-49fb-8371-ab592c84e0cf"
      },
      "execution_count": 15,
      "outputs": [
        {
          "output_type": "stream",
          "name": "stdout",
          "text": [
            "[ 0 10 20 30 40]\n",
            "[ 32.  50.  68.  86. 104.]\n"
          ]
        }
      ]
    },
    {
      "cell_type": "markdown",
      "metadata": {
        "id": "ZtXUcdMC4q6u"
      },
      "source": [
        "## Exercício 3: Sistema de Pontuação de Atividades Físicas\n",
        "Você está desenvolvendo um sistema de acompanhamento de atividades físicas que registra:\n",
        "\n",
        "Quantidade de minutos de exercício por dia\n",
        "Pontos conquistados (cada minuto = 1 ponto)\n",
        "Bônus diário (5 pontos para dias com >30 minutos)\n",
        "Dados da última semana:\n",
        "\n",
        "Segunda: 25 min Terça: 40 min Quarta: 30 min Quinta: 55 min Sexta: 20 min Sábado: 60 min Domingo: 45 min\n",
        "\n",
        "Crie uma matriz NumPy 7x3 (dias × dados) contendo:\n",
        "\n",
        "Coluna 1: minutos de exercício\n",
        "\n",
        "Coluna 2: pontos base (1 por minuto)\n",
        "\n",
        "Coluna 3: bônus (5 pontos se minutos >30)\n",
        "\n",
        "Calcule:\n",
        "\n",
        "Total de minutos na semana\n",
        "\n",
        "Total de pontos (base + bônus)\n",
        "\n",
        "Dia com maior atividade física"
      ]
    },
    {
      "cell_type": "code",
      "source": [
        "import numpy as np\n",
        "\n",
        "minutos = np.array([25, 40, 30, 55, 20, 60, 45])\n",
        "\n",
        "pontos_base = minutos.copy()\n",
        "\n",
        "# se maior q 30 entao +5, se nao 0\n",
        "bonus = np.where(minutos > 30, 5, 0)\n",
        "\n",
        "matriz = np.column_stack((minutos, pontos_base, bonus))\n",
        "\n",
        "totalMinutos = np.sum(matriz[:, 0])\n",
        "totalPontos = np.sum(matriz[:, 1] + matriz[:, 2])\n",
        "diaMaisPontos = np.argmax(matriz[:, 0])\n",
        "\n",
        "diasSemana = [\"Segunda\", \"Terca\", \"Quarta\", \"Quinta\", \"Sexta\", \"Sabado\", \"Domingo\"]\n",
        "\n",
        "print(\"Matriz com os dados (minutos | pontos base | bônus):\\n\", matriz)\n",
        "print(f\"\\nTotal de minutos na semana: {totalMinutos} min\")\n",
        "print(\"Total de pontos (base + bônus):\", totalPontos)\n",
        "print(\"Dia com mais atividade:\", diasSemana[diaMaisPontos])\n"
      ],
      "metadata": {
        "id": "Yo6OgyMrVJdY",
        "outputId": "2b120484-12c5-4383-d258-f71752bb9285",
        "colab": {
          "base_uri": "https://localhost:8080/"
        }
      },
      "execution_count": 21,
      "outputs": [
        {
          "output_type": "stream",
          "name": "stdout",
          "text": [
            "Matriz com os dados (minutos | pontos base | bônus):\n",
            " [[25 25  0]\n",
            " [40 40  5]\n",
            " [30 30  0]\n",
            " [55 55  5]\n",
            " [20 20  0]\n",
            " [60 60  5]\n",
            " [45 45  5]]\n",
            "\n",
            "Total de minutos na semana: 275 min\n",
            "Total de pontos (base + bônus): 295\n",
            "Dia com mais atividade: Sabado\n"
          ]
        }
      ]
    }
  ],
  "metadata": {
    "kernelspec": {
      "display_name": "aulas_pos",
      "language": "python",
      "name": "python3"
    },
    "language_info": {
      "codemirror_mode": {
        "name": "ipython",
        "version": 3
      },
      "file_extension": ".py",
      "mimetype": "text/x-python",
      "name": "python",
      "nbconvert_exporter": "python",
      "pygments_lexer": "ipython3",
      "version": "3.11.8"
    },
    "colab": {
      "provenance": []
    }
  },
  "nbformat": 4,
  "nbformat_minor": 0
}